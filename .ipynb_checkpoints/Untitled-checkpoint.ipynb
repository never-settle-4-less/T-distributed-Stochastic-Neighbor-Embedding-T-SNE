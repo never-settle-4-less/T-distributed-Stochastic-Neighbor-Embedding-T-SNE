{
 "cells": [
  {
   "cell_type": "code",
   "execution_count": 3,
   "metadata": {},
   "outputs": [
    {
     "ename": "NameError",
     "evalue": "name 'remove_words_withnumbers' is not defined",
     "output_type": "error",
     "traceback": [
      "\u001b[1;31m---------------------------------------------------------------------------\u001b[0m",
      "\u001b[1;31mNameError\u001b[0m                                 Traceback (most recent call last)",
      "\u001b[1;32m<ipython-input-3-78fe62396b54>\u001b[0m in \u001b[0;36m<module>\u001b[1;34m\u001b[0m\n\u001b[0;32m      2\u001b[0m     \u001b[1;34m\"\"\"Remove URLs from a sample string\"\"\"\u001b[0m\u001b[1;33m\u001b[0m\u001b[1;33m\u001b[0m\u001b[0m\n\u001b[0;32m      3\u001b[0m     \u001b[1;32mreturn\u001b[0m \u001b[0mre\u001b[0m\u001b[1;33m.\u001b[0m\u001b[0msub\u001b[0m\u001b[1;33m(\u001b[0m\u001b[1;34mr\"[^A-Za-z0-9]+\"\u001b[0m\u001b[1;33m,\u001b[0m \u001b[1;34m\"\"\u001b[0m\u001b[1;33m,\u001b[0m \u001b[0msample\u001b[0m\u001b[1;33m)\u001b[0m\u001b[1;33m\u001b[0m\u001b[1;33m\u001b[0m\u001b[0m\n\u001b[1;32m----> 4\u001b[1;33m \u001b[0mworking\u001b[0m \u001b[1;33m=\u001b[0m \u001b[0mremove_words_withnumbers\u001b[0m\u001b[1;33m(\u001b[0m\u001b[1;34m'abd 1%2&**^$336363#886#'\u001b[0m\u001b[1;33m)\u001b[0m\u001b[1;33m\u001b[0m\u001b[1;33m\u001b[0m\u001b[0m\n\u001b[0m\u001b[0;32m      5\u001b[0m \u001b[0mprint\u001b[0m\u001b[1;33m(\u001b[0m\u001b[0mworking\u001b[0m\u001b[1;33m)\u001b[0m\u001b[1;33m\u001b[0m\u001b[1;33m\u001b[0m\u001b[0m\n",
      "\u001b[1;31mNameError\u001b[0m: name 'remove_words_withnumbers' is not defined"
     ]
    }
   ],
   "source": [
    "def remove_specialcharacters(sample):\n",
    "    \"\"\"Remove URLs from a sample string\"\"\"\n",
    "    return re.sub(r\"[^A-Za-z0-9]+\", \"\", sample)\n",
    "working = remove_words_withnumbers('abd 1%2&**^$336363#886#')\n",
    "print(working)"
   ]
  },
  {
   "cell_type": "code",
   "execution_count": null,
   "metadata": {},
   "outputs": [],
   "source": [
    "\\S*\\d\\S*"
   ]
  },
  {
   "cell_type": "code",
   "execution_count": null,
   "metadata": {},
   "outputs": [],
   "source": [
    "strl = ' '\n",
    "final_string = []\n",
    "positive_words = [] # Store word from +ve reviews here\n",
    "negative_words = [] # Store words from -ve reviews here\n",
    "s = ' '\n",
    "for sent in texts_original['Text'].values[2:3]:\n",
    "    filtered_sentence = []\n",
    "    print(sent) #Each review\n",
    "    sent = print(cleanhtml(sent)) # remove HTML tags\n",
    "    sent = print(Punctuation(sent)) # remove Punctuations\n",
    "    sent = print(remove_URL(sent)) # remove URLs\n",
    "    sent = print(remove_words_withnumbers(sent)) # remove Words with numbers\n",
    "    sent = print(remove_specialcharacters(sent)) # remove Special Characters\n",
    "    sent = print(to_Lowercase(sent)) # conv)ert To Lower Case\n",
    "    sent = print(remove_multiplespace(sent)) #remove Multiple Spaces\n",
    "    print(sent.split())\n",
    "    for w in sent.split():\n",
    "        print('============================================>',w)\n",
    "        if((w.isaplha()) and (len(w)>2)):\n",
    "            \n",
    "            if(w.lower() not in stop):\n",
    "                s = (snow.stem(w.lower())).encode('utf8')\n",
    "                print('Selected : Stem Word -->',s)\n",
    "                filtered_sentence.append(s)\n",
    "            else:\n",
    "                print('Eliminated as its a stopword')\n",
    "                continue\n",
    "        else:\n",
    "            print('Eliminated as its a Numerical Character or Character of length less than 2')\n",
    "            continue\n",
    "            \n",
    "        strl = b\" \".join(filtered-sentence)\n",
    "        final_string.append(strl)\n",
    "        print('***********************************************************')\n",
    "        print(\"Finally selected words from the review:\\n\",final_string)\n",
    "        \n",
    "    \n"
   ]
  }
 ],
 "metadata": {
  "kernelspec": {
   "display_name": "Python 3",
   "language": "python",
   "name": "python3"
  },
  "language_info": {
   "codemirror_mode": {
    "name": "ipython",
    "version": 3
   },
   "file_extension": ".py",
   "mimetype": "text/x-python",
   "name": "python",
   "nbconvert_exporter": "python",
   "pygments_lexer": "ipython3",
   "version": "3.7.6"
  }
 },
 "nbformat": 4,
 "nbformat_minor": 4
}
